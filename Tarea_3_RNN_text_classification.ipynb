{
  "nbformat": 4,
  "nbformat_minor": 0,
  "metadata": {
    "accelerator": "GPU",
    "colab": {
      "name": "Tarea 3 RNN text classification.ipynb",
      "provenance": [],
      "collapsed_sections": [],
      "toc_visible": true,
      "include_colab_link": true
    },
    "kernelspec": {
      "display_name": "Python 3",
      "name": "python3"
    }
  },
  "cells": [
    {
      "cell_type": "markdown",
      "metadata": {
        "id": "view-in-github",
        "colab_type": "text"
      },
      "source": [
        "<a href=\"https://colab.research.google.com/github/Alex-Bernal27/Colab/blob/main/Tarea_3_RNN_text_classification.ipynb\" target=\"_parent\"><img src=\"https://colab.research.google.com/assets/colab-badge.svg\" alt=\"Open In Colab\"/></a>"
      ]
    },
    {
      "cell_type": "markdown",
      "metadata": {
        "id": "9TnJztDZGw-n"
      },
      "source": [
        "# Clasificacion de texto Redes Neuronal Recurrente\n"
      ]
    },
    {
      "cell_type": "code",
      "metadata": {
        "id": "vH_FAfIz5dEw"
      },
      "source": [
        "!pip install -q -U tensorflow\n",
        "!pip install -q tensorflow_datasets"
      ],
      "execution_count": null,
      "outputs": []
    },
    {
      "cell_type": "code",
      "metadata": {
        "id": "z682XYsrjkY9"
      },
      "source": [
        "import numpy as np\n",
        "import tensorflow_datasets as tfds\n",
        "import tensorflow as tf\n",
        "import matplotlib.pyplot as plt\n",
        "tfds.disable_progress_bar()"
      ],
      "execution_count": null,
      "outputs": []
    },
    {
      "cell_type": "code",
      "metadata": {
        "id": "SHRwRoP2nVHX",
        "colab": {
          "base_uri": "https://localhost:8080/"
        },
        "outputId": "fb0e2b59-0f07-4a3e-9434-1d5fd932167a"
      },
      "source": [
        "#El conjunto de datos de reseñas de películas grandes de IMDB es un conjunto de datos de clasificación binaria: \n",
        "#todas las reseñas tienen un sentimiento positivo o negativo. \n",
        "dataset, info = tfds.load('imdb_reviews', with_info=True,\n",
        "                          as_supervised=True)\n",
        "train_dataset, test_dataset = dataset['train'], dataset['test']\n",
        "\n",
        "train_dataset.element_spec"
      ],
      "execution_count": null,
      "outputs": [
        {
          "output_type": "execute_result",
          "data": {
            "text/plain": [
              "(TensorSpec(shape=(), dtype=tf.string, name=None),\n",
              " TensorSpec(shape=(), dtype=tf.int64, name=None))"
            ]
          },
          "metadata": {
            "tags": []
          },
          "execution_count": 36
        }
      ]
    },
    {
      "cell_type": "markdown",
      "metadata": {
        "id": "bfZ1PXFGHh5_"
      },
      "source": [
        "## Pre-proceso"
      ]
    },
    {
      "cell_type": "code",
      "metadata": {
        "id": "vd4_BGKyurao",
        "colab": {
          "base_uri": "https://localhost:8080/"
        },
        "outputId": "032243cd-4e8b-4f88-dc08-a7c72724453e"
      },
      "source": [
        "#Devuelve un conjunto de datos de (texto, etiquetas): \n",
        "for example, label in train_dataset.take(1):\n",
        "  print('text: ', example.numpy())\n",
        "  print('label: ', label.numpy())"
      ],
      "execution_count": null,
      "outputs": [
        {
          "output_type": "stream",
          "text": [
            "text:  b\"This was an absolutely terrible movie. Don't be lured in by Christopher Walken or Michael Ironside. Both are great actors, but this must simply be their worst role in history. Even their great acting could not redeem this movie's ridiculous storyline. This movie is an early nineties US propaganda piece. The most pathetic scenes were those when the Columbian rebels were making their cases for revolutions. Maria Conchita Alonso appeared phony, and her pseudo-love affair with Walken was nothing but a pathetic emotional plug in a movie that was devoid of any real meaning. I am disappointed that there are movies like this, ruining actor's like Christopher Walken's good name. I could barely sit through it.\"\n",
            "label:  0\n"
          ],
          "name": "stdout"
        }
      ]
    },
    {
      "cell_type": "code",
      "metadata": {
        "id": "dDsCaZCDYZgm"
      },
      "source": [
        "BUFFER_SIZE = 10000\n",
        "BATCH_SIZE = 64"
      ],
      "execution_count": null,
      "outputs": []
    },
    {
      "cell_type": "code",
      "metadata": {
        "id": "VznrltNOnUc5"
      },
      "source": [
        "#Mezcle los datos para el entrenamiento y cree lotes de estos pares (texto, etiqueta) \n",
        "train_dataset = train_dataset.shuffle(BUFFER_SIZE).batch(BATCH_SIZE).prefetch(tf.data.AUTOTUNE)\n",
        "test_dataset = test_dataset.batch(BATCH_SIZE).prefetch(tf.data.AUTOTUNE)"
      ],
      "execution_count": null,
      "outputs": []
    },
    {
      "cell_type": "code",
      "metadata": {
        "id": "jqkvdcFv41wC",
        "colab": {
          "base_uri": "https://localhost:8080/"
        },
        "outputId": "0873d3d2-2732-47dc-f371-353ff59e0286"
      },
      "source": [
        "for example, label in train_dataset.take(1):\n",
        "  print('texts: ', example.numpy()[:3])\n",
        "  print()\n",
        "  print('labels: ', label.numpy()[:3])"
      ],
      "execution_count": null,
      "outputs": [
        {
          "output_type": "stream",
          "text": [
            "texts:  [b\"Like some of the other folks who have reviewed this film, I was also waxing nostalgic about it...before I had the misfortune to actually watch it again. Alas, my childhood memories of this film were completely untrustworthy, and The Perils of Pauline is now revealed to be an embarrassing exercise in banal, racist, and plain boring film-making. Even the presence of old pros Edward Everett Horton and Terry-Thomas can't overcome a rancid screenplay, a horrible theme song, and some wretched 'special effects'. In addition, the stereotypical depictions of African and Arab characters make for painful viewing, especially considering this was produced in the immediate wake of the Civil Rights movement. Michael Weldon's original Psychotronic Encyclopedia reports that The Perils of Pauline was originally produced for television but inexplicably ended up getting a theatrical release. Judging from the results, that is a completely believable (and baffling) scenario.\"\n",
            " b'When a rich tycoon is killed in a plane crash, his spinster twin sister, Martha Craig (Madge Kennedy), doesn\\'t believe he grabbed the controls in a suicide dive (even though self-snuff runs in the family) but his three beautiful daughters couldn\\'t care less. The pilot, Jim Norton (John Bromfield), goes to work for Valerie Craig (Kathleen Hughes) who soon coerces him into helping her wrest control of the estate from her troubled sister, Lorna (Sara Shane) and the family lawyer (Jess Barker). Valerie wants Norton to seduce Lorna when he\\'s not fending off the advances of another sister, the nymphet Vicki (Marla English), but her plans are thrown into a tailspin when Norton falls for his prey. All bets are off as a world of woe -including corporate chicanery, seductions, suicides, blackmail, a murder plot, the Mann Act, double-crosses, disfigurement, and poetic justice- befall \"Craig Manor\", an imposing mansion on a bluff overlooking the sea...<br /><br />This preposterous potboiler would have made a perfect second feature for WRITTEN ON THE WIND, also from 1956. Douglas Sirk\\'s saga of a powerful (and powerfully dysfunctional) oil clan was said to have inspired the 1980s night-time TV serial DALLAS but the Craig\\'s low-brow excursion into insanity seems right out of it\\'s sinful sister-soap, DYNASTY. All three siblings (only one of whom is really bad) are great beauties but it\\'s Kathleen Hughes\\' cartoon villainy that stands out. Valerie is relentless in her quest to inherit the family fortune and her unbridled enthusiasm for evil is one of the movie\\'s many guilty pleasures. Teenage sister Vicki is quite a piece of work as well, reminiscent of Carmen Sternwood in THE BIG SLEEP. When they first meet, she pulls the equivalent of trying to sit on Norton\\'s lap while he\\'s still standing by coming on to him with the line \"I graduated summa cum laude from Embrace-able U.\" Whew!<br /><br />THREE BAD SISTERS, produced by schlockmeister Howard W. Koch, is a terrific trash-wallow in exploitation excess and the cast is B-Movie Heaven: Marla \"She Creature\" English, 50s hunk John \"Revenge Of The Creature\" Bromfield (once married to French sexpot Corinne Calvet), Universal starlet Sara Shane (discovered by Hedy Lamarr), Jess \"Mr. Susan Hayward\" Barker, Kathleen \"It Came From Outer Space\" Hughes, and former silent screen star Madge Kennedy give it all they\\'ve got -however much or little that is. Future Eurotrash star Brett Halsey (TRUMPET OF THE Apocalypse) is seen briefly as one of Vicki\\'s victims.<br /><br />B-Movie rating: 10/10 Marla (and her body English) made marvelous movies! THREE BAD SISTERS was recently seen on the big screen as part of the Palm Springs Film Noir Festival but the jury\\'s still wiping soap suds out of ...aw hell, it\\'s noir (5/10 on the noirometer).'\n",
            " b\"A mix of comedy, romance, music(?!), action and horror. A knockout. This is one of the reasons people rave about Hong Kong cinema. If you're looking for something totally original, look no further. Entertainment at it's peak.\"]\n",
            "\n",
            "labels:  [0 1 1]\n"
          ],
          "name": "stdout"
        }
      ]
    },
    {
      "cell_type": "code",
      "metadata": {
        "id": "uC25Lu1Yvuqy"
      },
      "source": [
        "#El texto sin formato cargado por tfds debe procesarse antes de que pueda usarse en un modelo. \n",
        "#La forma más sencilla de procesar texto para entrenamiento es usar la capa experimental.preprocessing.TextVectorization. \n",
        "VOCAB_SIZE=1000\n",
        "encoder = tf.keras.layers.experimental.preprocessing.TextVectorization(\n",
        "    max_tokens=VOCAB_SIZE)\n",
        "#El método .adapt establece el vocabulario de la capa. \n",
        "encoder.adapt(train_dataset.map(lambda text, label: text))"
      ],
      "execution_count": null,
      "outputs": []
    },
    {
      "cell_type": "code",
      "metadata": {
        "id": "tBoyjjWg0Ac9",
        "colab": {
          "base_uri": "https://localhost:8080/"
        },
        "outputId": "bbacb1c9-05bb-41a4-ab3a-c3a82e4b48ad"
      },
      "source": [
        "#Aquí están las primeras 20 fichas. Después del relleno y los tokens desconocidos, se ordenan por frecuencia\n",
        "vocab = np.array(encoder.get_vocabulary())\n",
        "vocab[:20]"
      ],
      "execution_count": null,
      "outputs": [
        {
          "output_type": "execute_result",
          "data": {
            "text/plain": [
              "array(['', '[UNK]', 'the', 'and', 'a', 'of', 'to', 'is', 'in', 'it', 'i',\n",
              "       'this', 'that', 'br', 'was', 'as', 'for', 'with', 'movie', 'but'],\n",
              "      dtype='<U14')"
            ]
          },
          "metadata": {
            "tags": []
          },
          "execution_count": 42
        }
      ]
    },
    {
      "cell_type": "code",
      "metadata": {
        "id": "RGc7C9WiwRWs",
        "colab": {
          "base_uri": "https://localhost:8080/"
        },
        "outputId": "f68ed2ec-6077-4952-cc1d-2556fe625ace"
      },
      "source": [
        "#Una vez que se establece el vocabulario, la capa puede codificar texto en índices. \n",
        "#Los tensores de los índices se rellenan con 0 en la secuencia más larga del lote \n",
        "encoded_example = encoder(example)[:3].numpy()\n",
        "encoded_example"
      ],
      "execution_count": null,
      "outputs": [
        {
          "output_type": "execute_result",
          "data": {
            "text/plain": [
              "array([[39, 47,  5, ...,  0,  0,  0],\n",
              "       [51,  4,  1, ...,  0,  0,  0],\n",
              "       [ 4,  1,  5, ...,  0,  0,  0]])"
            ]
          },
          "metadata": {
            "tags": []
          },
          "execution_count": 43
        }
      ]
    },
    {
      "cell_type": "code",
      "metadata": {
        "id": "N_tD0QY5wXaK",
        "colab": {
          "base_uri": "https://localhost:8080/"
        },
        "outputId": "707d9334-88e3-4b30-b99d-d63a109eaf45"
      },
      "source": [
        "for n in range(3):\n",
        "  print(\"Original: \", example[n].numpy())\n",
        "  print(\"Round-trip: \", \" \".join(vocab[encoded_example[n]]))\n",
        "  print()"
      ],
      "execution_count": null,
      "outputs": [
        {
          "output_type": "stream",
          "text": [
            "Original:  b\"Like some of the other folks who have reviewed this film, I was also waxing nostalgic about it...before I had the misfortune to actually watch it again. Alas, my childhood memories of this film were completely untrustworthy, and The Perils of Pauline is now revealed to be an embarrassing exercise in banal, racist, and plain boring film-making. Even the presence of old pros Edward Everett Horton and Terry-Thomas can't overcome a rancid screenplay, a horrible theme song, and some wretched 'special effects'. In addition, the stereotypical depictions of African and Arab characters make for painful viewing, especially considering this was produced in the immediate wake of the Civil Rights movement. Michael Weldon's original Psychotronic Encyclopedia reports that The Perils of Pauline was originally produced for television but inexplicably ended up getting a theatrical release. Judging from the results, that is a completely believable (and baffling) scenario.\"\n",
            "Round-trip:  like some of the other [UNK] who have [UNK] this film i was also [UNK] [UNK] about [UNK] i had the [UNK] to actually watch it again [UNK] my [UNK] [UNK] of this film were completely [UNK] and the [UNK] of [UNK] is now [UNK] to be an [UNK] [UNK] in [UNK] [UNK] and [UNK] boring [UNK] even the [UNK] of old [UNK] [UNK] [UNK] [UNK] and [UNK] cant [UNK] a [UNK] screenplay a horrible theme song and some [UNK] special effects in [UNK] the [UNK] [UNK] of [UNK] and [UNK] characters make for [UNK] viewing especially [UNK] this was [UNK] in the [UNK] [UNK] of the [UNK] [UNK] [UNK] michael [UNK] original [UNK] [UNK] [UNK] that the [UNK] of [UNK] was [UNK] [UNK] for television but [UNK] [UNK] up getting a [UNK] release [UNK] from the [UNK] that is a completely believable and [UNK] [UNK]                                                                                                                                                                                                                                                                                                                                                                                                                                                                                                                                                                                                                                                                                                                                                                                                                               \n",
            "\n",
            "Original:  b'When a rich tycoon is killed in a plane crash, his spinster twin sister, Martha Craig (Madge Kennedy), doesn\\'t believe he grabbed the controls in a suicide dive (even though self-snuff runs in the family) but his three beautiful daughters couldn\\'t care less. The pilot, Jim Norton (John Bromfield), goes to work for Valerie Craig (Kathleen Hughes) who soon coerces him into helping her wrest control of the estate from her troubled sister, Lorna (Sara Shane) and the family lawyer (Jess Barker). Valerie wants Norton to seduce Lorna when he\\'s not fending off the advances of another sister, the nymphet Vicki (Marla English), but her plans are thrown into a tailspin when Norton falls for his prey. All bets are off as a world of woe -including corporate chicanery, seductions, suicides, blackmail, a murder plot, the Mann Act, double-crosses, disfigurement, and poetic justice- befall \"Craig Manor\", an imposing mansion on a bluff overlooking the sea...<br /><br />This preposterous potboiler would have made a perfect second feature for WRITTEN ON THE WIND, also from 1956. Douglas Sirk\\'s saga of a powerful (and powerfully dysfunctional) oil clan was said to have inspired the 1980s night-time TV serial DALLAS but the Craig\\'s low-brow excursion into insanity seems right out of it\\'s sinful sister-soap, DYNASTY. All three siblings (only one of whom is really bad) are great beauties but it\\'s Kathleen Hughes\\' cartoon villainy that stands out. Valerie is relentless in her quest to inherit the family fortune and her unbridled enthusiasm for evil is one of the movie\\'s many guilty pleasures. Teenage sister Vicki is quite a piece of work as well, reminiscent of Carmen Sternwood in THE BIG SLEEP. When they first meet, she pulls the equivalent of trying to sit on Norton\\'s lap while he\\'s still standing by coming on to him with the line \"I graduated summa cum laude from Embrace-able U.\" Whew!<br /><br />THREE BAD SISTERS, produced by schlockmeister Howard W. Koch, is a terrific trash-wallow in exploitation excess and the cast is B-Movie Heaven: Marla \"She Creature\" English, 50s hunk John \"Revenge Of The Creature\" Bromfield (once married to French sexpot Corinne Calvet), Universal starlet Sara Shane (discovered by Hedy Lamarr), Jess \"Mr. Susan Hayward\" Barker, Kathleen \"It Came From Outer Space\" Hughes, and former silent screen star Madge Kennedy give it all they\\'ve got -however much or little that is. Future Eurotrash star Brett Halsey (TRUMPET OF THE Apocalypse) is seen briefly as one of Vicki\\'s victims.<br /><br />B-Movie rating: 10/10 Marla (and her body English) made marvelous movies! THREE BAD SISTERS was recently seen on the big screen as part of the Palm Springs Film Noir Festival but the jury\\'s still wiping soap suds out of ...aw hell, it\\'s noir (5/10 on the noirometer).'\n",
            "Round-trip:  when a [UNK] [UNK] is killed in a [UNK] [UNK] his [UNK] [UNK] sister [UNK] [UNK] [UNK] [UNK] doesnt believe he [UNK] the [UNK] in a [UNK] [UNK] even though [UNK] [UNK] in the family but his three beautiful [UNK] couldnt care less the [UNK] [UNK] [UNK] john [UNK] goes to work for [UNK] [UNK] [UNK] [UNK] who soon [UNK] him into [UNK] her [UNK] [UNK] of the [UNK] from her [UNK] sister [UNK] [UNK] [UNK] and the family [UNK] [UNK] [UNK] [UNK] wants [UNK] to [UNK] [UNK] when hes not [UNK] off the [UNK] of another sister the [UNK] [UNK] [UNK] english but her [UNK] are [UNK] into a [UNK] when [UNK] falls for his [UNK] all [UNK] are off as a world of [UNK] including [UNK] [UNK] [UNK] [UNK] [UNK] a murder plot the [UNK] act [UNK] [UNK] and [UNK] [UNK] [UNK] [UNK] [UNK] an [UNK] [UNK] on a [UNK] [UNK] the [UNK] br this [UNK] [UNK] would have made a perfect second feature for written on the [UNK] also from [UNK] [UNK] [UNK] [UNK] of a powerful and [UNK] [UNK] [UNK] [UNK] was said to have [UNK] the [UNK] [UNK] tv [UNK] [UNK] but the [UNK] [UNK] [UNK] into [UNK] seems right out of its [UNK] [UNK] [UNK] all three [UNK] only one of whom is really bad are great [UNK] but its [UNK] [UNK] [UNK] [UNK] that [UNK] out [UNK] is [UNK] in her [UNK] to [UNK] the family [UNK] and her [UNK] [UNK] for evil is one of the movies many [UNK] [UNK] [UNK] sister [UNK] is quite a piece of work as well [UNK] of [UNK] [UNK] in the big [UNK] when they first meet she [UNK] the [UNK] of trying to sit on [UNK] [UNK] while hes still [UNK] by coming on to him with the line i [UNK] [UNK] [UNK] [UNK] from [UNK] [UNK] [UNK] br three bad [UNK] [UNK] by [UNK] [UNK] [UNK] [UNK] is a [UNK] [UNK] in [UNK] [UNK] and the cast is [UNK] [UNK] [UNK] she [UNK] english [UNK] [UNK] john [UNK] of the [UNK] [UNK] once [UNK] to french [UNK] [UNK] [UNK] [UNK] [UNK] [UNK] [UNK] [UNK] by [UNK] [UNK] [UNK] mr [UNK] [UNK] [UNK] [UNK] it came from [UNK] space [UNK] and [UNK] [UNK] screen star [UNK] [UNK] give it all [UNK] got however much or little that is future [UNK] star [UNK] [UNK] [UNK] of the [UNK] is seen [UNK] as one of [UNK] [UNK] br [UNK] rating [UNK] [UNK] and her body english made [UNK] movies three bad [UNK] was [UNK] seen on the big screen as part of the [UNK] [UNK] film [UNK] [UNK] but the [UNK] still [UNK] [UNK] [UNK] out of [UNK] hell its [UNK] [UNK] on the [UNK]                                                                                                                                                                                                                                                                                                                                                                                                                                                                                                       \n",
            "\n",
            "Original:  b\"A mix of comedy, romance, music(?!), action and horror. A knockout. This is one of the reasons people rave about Hong Kong cinema. If you're looking for something totally original, look no further. Entertainment at it's peak.\"\n",
            "Round-trip:  a [UNK] of comedy romance music action and horror a [UNK] this is one of the [UNK] people [UNK] about [UNK] [UNK] cinema if youre looking for something totally original look no [UNK] entertainment at its [UNK]                                                                                                                                                                                                                                                                                                                                                                                                                                                                                                                                                                                                                                                                                                                                                                                                                                                                                                                                            \n",
            "\n"
          ],
          "name": "stdout"
        }
      ]
    },
    {
      "cell_type": "markdown",
      "metadata": {
        "id": "bjUqGVBxGw-t"
      },
      "source": [
        "## Crear el modelo"
      ]
    },
    {
      "cell_type": "markdown",
      "metadata": {
        "id": "bgs6nnSTGw-t"
      },
      "source": [
        "1. La primera capa es el \"codificador\", que convierte el texto en una secuencia de índices de tokens.\n",
        "2. Embeddings almacena un vector por palabra. Cuando se llama, convierte las secuencias de índices de palabras en secuencias de vectores. Estos vectores se pueden entrenar. Después del entrenamiento (con suficientes datos), las palabras con significados similares a menudo tienen vectores similares.\n",
        "3. Una red neuronal recurrente procesa la entrada de secuencia iterando a través de los elementos. Los RNN pasan las salidas de un paso de tiempo a su entrada en el siguiente paso de tiempo.\n",
        "\n",
        "  El contenedor `tf.keras.layers.Bidirectional` también se puede utilizar con una capa RNN. Esto propaga la entrada hacia adelante y hacia atrás a través de la capa RNN y luego concatena la salida final.\n",
        "\n",
        "  * La principal ventaja de un RNN bidireccional es que la señal desde el principio de la entrada no necesita procesarse hasta el final en cada paso de tiempo para afectar la salida.\n",
        "\n",
        "  * La principal desventaja de un RNN bidireccional es que no puede transmitir predicciones de manera eficiente a medida que se agregan palabras al final.\n",
        "\n",
        "1. Una vez que el RNN ha convertido la secuencia en un solo vector, las dos \"capas. Densas\" realizan un procesamiento final y convierten esta representación vectorial en un solo logit como resultado de la clasificación. \n",
        "\n",
        "![A drawing of the information flow in the model](https://github.com/tensorflow/docs/blob/master/site/en/tutorials/text/images/bidirectional.png?raw=1)"
      ]
    },
    {
      "cell_type": "code",
      "metadata": {
        "id": "LwfoBkmRYcP3"
      },
      "source": [
        "model = tf.keras.Sequential([\n",
        "    encoder,\n",
        "    tf.keras.layers.Embedding(\n",
        "        input_dim=len(encoder.get_vocabulary()),\n",
        "        output_dim=64,\n",
        "        # Utilice enmascaramiento para manejar las longitudes de secuencia variable \n",
        "        mask_zero=True),\n",
        "    tf.keras.layers.Bidirectional(tf.keras.layers.LSTM(64)),\n",
        "    tf.keras.layers.Dense(64, activation='relu'),\n",
        "    tf.keras.layers.Dense(1)\n",
        "])"
      ],
      "execution_count": null,
      "outputs": []
    },
    {
      "cell_type": "code",
      "metadata": {
        "id": "87a8-CwfKebw",
        "colab": {
          "base_uri": "https://localhost:8080/"
        },
        "outputId": "90d13173-61c1-49d7-bd49-ef7e1b811e82"
      },
      "source": [
        "#La capa de incrustación usa enmascaramiento para manejar las diferentes longitudes de secuencia. Todas las capas después del enmascaramiento de soporte de incrustación \n",
        "print([layer.supports_masking for layer in model.layers])"
      ],
      "execution_count": null,
      "outputs": [
        {
          "output_type": "stream",
          "text": [
            "[False, True, True, True, True]\n"
          ],
          "name": "stdout"
        }
      ]
    },
    {
      "cell_type": "markdown",
      "metadata": {
        "id": "zIwH3nto596k"
      },
      "source": [
        "## Entrenar el modelo"
      ]
    },
    {
      "cell_type": "code",
      "metadata": {
        "id": "kj2xei41YZjC"
      },
      "source": [
        "#Compile el modelo de Keras para configurar el proceso de entrenamiento\n",
        "model.compile(loss=tf.keras.losses.BinaryCrossentropy(from_logits=True),\n",
        "              optimizer=tf.keras.optimizers.Adam(1e-4),\n",
        "              metrics=['accuracy'])"
      ],
      "execution_count": null,
      "outputs": []
    },
    {
      "cell_type": "code",
      "metadata": {
        "id": "hw86wWS4YgR2",
        "colab": {
          "base_uri": "https://localhost:8080/"
        },
        "outputId": "16498051-5562-429f-e2f0-2a902f0914db"
      },
      "source": [
        "history = model.fit(train_dataset, epochs=10,\n",
        "                    validation_data=test_dataset, \n",
        "                    validation_steps=30)"
      ],
      "execution_count": null,
      "outputs": [
        {
          "output_type": "stream",
          "text": [
            "Epoch 1/10\n",
            "391/391 [==============================] - 34s 86ms/step - loss: 0.5915 - accuracy: 0.6244 - val_loss: 0.4641 - val_accuracy: 0.7536\n",
            "Epoch 2/10\n",
            "391/391 [==============================] - 33s 83ms/step - loss: 0.3879 - accuracy: 0.8270 - val_loss: 0.3675 - val_accuracy: 0.8448\n",
            "Epoch 3/10\n",
            "391/391 [==============================] - 33s 84ms/step - loss: 0.3410 - accuracy: 0.8532 - val_loss: 0.3769 - val_accuracy: 0.8453\n",
            "Epoch 4/10\n",
            "391/391 [==============================] - 33s 83ms/step - loss: 0.3221 - accuracy: 0.8617 - val_loss: 0.3332 - val_accuracy: 0.8557\n",
            "Epoch 5/10\n",
            "391/391 [==============================] - 33s 83ms/step - loss: 0.3124 - accuracy: 0.8678 - val_loss: 0.3292 - val_accuracy: 0.8531\n",
            "Epoch 6/10\n",
            "391/391 [==============================] - 32s 82ms/step - loss: 0.3078 - accuracy: 0.8703 - val_loss: 0.3274 - val_accuracy: 0.8583\n",
            "Epoch 7/10\n",
            "391/391 [==============================] - 33s 84ms/step - loss: 0.3047 - accuracy: 0.8712 - val_loss: 0.3221 - val_accuracy: 0.8573\n",
            "Epoch 8/10\n",
            "391/391 [==============================] - 33s 84ms/step - loss: 0.3028 - accuracy: 0.8731 - val_loss: 0.3281 - val_accuracy: 0.8656\n",
            "Epoch 9/10\n",
            "391/391 [==============================] - 33s 83ms/step - loss: 0.2989 - accuracy: 0.8733 - val_loss: 0.3235 - val_accuracy: 0.8536\n",
            "Epoch 10/10\n",
            "391/391 [==============================] - 33s 83ms/step - loss: 0.2952 - accuracy: 0.8771 - val_loss: 0.3261 - val_accuracy: 0.8599\n"
          ],
          "name": "stdout"
        }
      ]
    },
    {
      "cell_type": "markdown",
      "metadata": {
        "id": "IcYOxXgKHy0p"
      },
      "source": [
        "## Analisis de rendimiento"
      ]
    },
    {
      "cell_type": "code",
      "metadata": {
        "id": "EmT_3kYzKszy"
      },
      "source": [
        "def plot_graphs(history, metric):\n",
        "  plt.plot(history.history[metric])\n",
        "  plt.plot(history.history['val_'+metric], '')\n",
        "  plt.xlabel(\"Epochs\")\n",
        "  plt.ylabel(metric)\n",
        "  plt.legend([metric, 'val_'+metric])"
      ],
      "execution_count": null,
      "outputs": []
    },
    {
      "cell_type": "code",
      "metadata": {
        "id": "BaNbXi43YgUT",
        "colab": {
          "base_uri": "https://localhost:8080/"
        },
        "outputId": "a1e7943e-63dd-4730-95e5-87b833b2bbe8"
      },
      "source": [
        "test_loss, test_acc = model.evaluate(test_dataset)\n",
        "\n",
        "print('Test Loss: {}'.format(test_loss))\n",
        "print('Test Accuracy: {}'.format(test_acc))"
      ],
      "execution_count": null,
      "outputs": [
        {
          "output_type": "stream",
          "text": [
            "391/391 [==============================] - 21s 41ms/step - loss: 0.6932 - accuracy: 0.5021\n",
            "Test Loss: 0.6931421160697937\n",
            "Test Accuracy: 0.5\n"
          ],
          "name": "stdout"
        }
      ]
    },
    {
      "cell_type": "code",
      "metadata": {
        "id": "OZmwt_mzaQJk",
        "colab": {
          "base_uri": "https://localhost:8080/",
          "height": 518
        },
        "outputId": "0e47587a-6ab7-4fc7-c8d9-edae3636008a"
      },
      "source": [
        "plt.figure(figsize=(16,8))\n",
        "plt.subplot(1,2,1)\n",
        "plot_graphs(history, 'accuracy')\n",
        "plt.ylim(None,1)\n",
        "plt.subplot(1,2,2)\n",
        "plot_graphs(history, 'loss')\n",
        "plt.ylim(0,None)"
      ],
      "execution_count": null,
      "outputs": [
        {
          "output_type": "execute_result",
          "data": {
            "text/plain": [
              "(0.0, 0.6063143149018287)"
            ]
          },
          "metadata": {
            "tags": []
          },
          "execution_count": 51
        },
        {
          "output_type": "display_data",
          "data": {
            "image/png": "[encoded data removed]",
            "text/plain": [
              "<Figure size 1152x576 with 2 Axes>"
            ]
          },
          "metadata": {
            "tags": [],
            "needs_background": "light"
          }
        }
      ]
    },
    {
      "cell_type": "code",
      "metadata": {
        "id": "ZXgfQSgRW6zU",
        "colab": {
          "base_uri": "https://localhost:8080/"
        },
        "outputId": "8ae464b1-0d5b-431e-b456-b7058391835c"
      },
      "source": [
        "#Ejecuta una predicción en una nueva oración:\n",
        "#Si la predicción es> = 0.0, es positiva, de lo contrario es negativa. \n",
        "sample_text = ('The movie was cool. The animation and the graphics '\n",
        "               'were out of this world. I would recommend this movie.')\n",
        "predictions = model.predict(np.array([sample_text]))\n",
        "predictions"
      ],
      "execution_count": null,
      "outputs": [
        {
          "output_type": "execute_result",
          "data": {
            "text/plain": [
              "array([[0.79729176]], dtype=float32)"
            ]
          },
          "metadata": {
            "tags": []
          },
          "execution_count": 32
        }
      ]
    }
  ]
}