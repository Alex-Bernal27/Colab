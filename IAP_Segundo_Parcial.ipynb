{
  "nbformat": 4,
  "nbformat_minor": 0,
  "metadata": {
    "colab": {
      "name": "IAP Segundo Parcial.ipynb",
      "provenance": [],
      "collapsed_sections": [],
      "toc_visible": true,
      "include_colab_link": true
    },
    "kernelspec": {
      "name": "python3",
      "display_name": "Python 3"
    },
    "language_info": {
      "name": "python"
    },
    "accelerator": "GPU"
  },
  "cells": [
    {
      "cell_type": "markdown",
      "metadata": {
        "id": "view-in-github",
        "colab_type": "text"
      },
      "source": [
        "<a href=\"https://colab.research.google.com/github/Alex-Bernal27/Colab/blob/main/IAP_Segundo_Parcial.ipynb\" target=\"_parent\"><img src=\"https://colab.research.google.com/assets/colab-badge.svg\" alt=\"Open In Colab\"/></a>"
      ]
    },
    {
      "cell_type": "markdown",
      "metadata": {
        "id": "27BQUS57ASkI"
      },
      "source": [
        "# 2. **(30 puntos)** El conjunto de datos \"DatosNoEtiquetados.csv\" esta conformado por textos pre-limpiados provenientes de tweets dirigidos a distintas aerolineas. Asigna a cada texto un sentimiento (negative/positive). Describe la metodologia/ideas que estas empleando.\n",
        "\n",
        "Nota 1: Los 3 alumnos con los accuracy mas altos tendran 20-15-10 puntos extras respectivamente.\n",
        "\n",
        "Nota 2: Idealmente usar tecnicas no supervisadas o heuristicas. Tambien es valido usar tecnicas supervisadas que no usen redes neuronales.\n",
        "\n",
        "Nota 3: Enviar un csv con dos columnas\n",
        "la primera es la misma columna de \"DatosNoEtiquetados.csv\" y la segunda columna con header \"Sentiment\" debe contener las etiquetas asignadas (negative/positive). El archivo debe llamarse \"ApellidoP2.csv\""
      ]
    },
    {
      "cell_type": "markdown",
      "metadata": {
        "id": "zAP4bl_2zO1T"
      },
      "source": [
        "# Explicacion del metodo\n",
        "El metodo que usé para asignar una etiqueta a los datos fue buscar por cada texto una palabra que estaba en un csv que contiene una lista de palabras de opinión negativas que fueron encontradas de otros programas como las más comunes en textos negativos.\n",
        "Se puede ver que hay muchas palabras mal escritas en la lista y no son errores se incluyen a medida que aparecen estas palabras mal escritas con frecuencia en el contenido de Twitter.\n",
        "Y aunque aparición de una palabra de opinión en una oración no necesariamente significa que la oración expresa una opinión positiva o negativa es un buen metodo ya que pienso que si hay palabras que siempre estan arraigadas a algo malo o bueno. "
      ]
    },
    {
      "cell_type": "code",
      "metadata": {
        "id": "MYmdhRbiKRD5"
      },
      "source": [
        "NegWords = pd.read_csv(\"NegativeWords.csv\")\n",
        "def mi_etiquetador(txt):\n",
        "  for neg in NegWords['Words']:\n",
        "    for word in txt.split():\n",
        "      if word == neg:\n",
        "        return 'negative'\n",
        "  return 'positive'"
      ],
      "execution_count": null,
      "outputs": []
    },
    {
      "cell_type": "code",
      "metadata": {
        "id": "aFA1vFZtjo-j"
      },
      "source": [
        "## CORRER ESTA PARTE UNA VEZ QUE EL MODELO \"model\" ESTE ENTRENADO\n",
        "dataVal = pd.read_csv(\"DatosNoEtiquetados.csv\") # Lectura datos no etiquetados\n",
        "val_lab = [mi_etiquetador(txt) for txt in dataVal['Text']]\n",
        "# Guardar el archivo\n",
        "dataVal['Sentiment'] = val_lab\n",
        "dataVal.to_csv(\"BernalP2.csv\")"
      ],
      "execution_count": null,
      "outputs": []
    },
    {
      "cell_type": "markdown",
      "metadata": {
        "id": "AdUk9qSJCzgz"
      },
      "source": [
        "# 3. **(50 puntos)** El conjunto de datos \"DatosEtiquetados.csv\" esta conformado por textos pre-limpiados provenientes de tweets dirigidos a distintas aerolineas, además cada uno de los textos tiene asociado un sentimiento (negative/positive). Utiliza  \"DatosEtiquetados.csv\" para entrenar un modelo con redes neuronales recurrentes para asignar etiquetas al conjunto \"DatosNoEtiquetados.csv\"\n",
        "\n",
        "\n",
        "Nota: Los 3 alumnos con los accuracy mas altos tendran 20-15-10 puntos extras respectivamente.\n",
        "\n",
        "Nota 2: Enviar un csv con dos columnas\n",
        "la primera es la misma columna de \"DatosNoEtiquetados.csv\" y la segunda columna con header \"Sentiment\" debe contener las etiquetas asignadas (negative/positive). El archivo debe llamarse \"ApellidoP3.csv\" (ver codigo adjunto)\n"
      ]
    },
    {
      "cell_type": "code",
      "metadata": {
        "id": "LtSsXbSvec6e"
      },
      "source": [
        "## Usar GPU"
      ],
      "execution_count": null,
      "outputs": []
    },
    {
      "cell_type": "code",
      "metadata": {
        "id": "DmWLaaF0EIFu"
      },
      "source": [
        "import numpy as np \n",
        "import pandas as pd\n",
        "import tensorflow as tf\n",
        "from sklearn.feature_extraction.text import CountVectorizer\n",
        "from tensorflow.keras.preprocessing.text import Tokenizer\n",
        "from tensorflow.keras.preprocessing.sequence import pad_sequences\n",
        "from tensorflow.keras.models import Sequential\n",
        "from tensorflow.keras.callbacks import ModelCheckpoint\n",
        "from tensorflow.keras.layers import Dense, Embedding, LSTM, SpatialDropout1D\n",
        "from sklearn.model_selection import train_test_split\n",
        "from tensorflow.keras.utils import to_categorical\n",
        "import re"
      ],
      "execution_count": null,
      "outputs": []
    },
    {
      "cell_type": "code",
      "metadata": {
        "id": "gRTz6Qs9DmyG"
      },
      "source": [
        "# Lectura\n",
        "import pandas as pd\n",
        "data = pd.read_csv(\"DatosEtiquetados.csv\")"
      ],
      "execution_count": null,
      "outputs": []
    },
    {
      "cell_type": "code",
      "metadata": {
        "id": "PuY4HLOGD1Sv"
      },
      "source": [
        "# Preproceso\n",
        "max_fatures = 2000\n",
        "tokenizer = Tokenizer(num_words=max_fatures, split=' ')\n",
        "tokenizer.fit_on_texts(data['Text'].values)\n",
        "X = tokenizer.texts_to_sequences(data['Text'].values)\n",
        "X = pad_sequences(X,padding='post')\n",
        "Y = pd.get_dummies(data['Sentiment']).values"
      ],
      "execution_count": null,
      "outputs": []
    },
    {
      "cell_type": "code",
      "metadata": {
        "colab": {
          "base_uri": "https://localhost:8080/"
        },
        "id": "YkqS4iljevos",
        "outputId": "a5280aad-0a3d-4e2a-ae80-fce4261941ca"
      },
      "source": [
        "# (4000,30) 4000 textos con 30 elementos cada texto\n",
        "X.shape"
      ],
      "execution_count": null,
      "outputs": [
        {
          "output_type": "execute_result",
          "data": {
            "text/plain": [
              "(4000, 30)"
            ]
          },
          "metadata": {
            "tags": []
          },
          "execution_count": 47
        }
      ]
    },
    {
      "cell_type": "code",
      "metadata": {
        "id": "UQEhVKFUER4B"
      },
      "source": [
        "%tensorflow_version 2.x"
      ],
      "execution_count": null,
      "outputs": []
    },
    {
      "cell_type": "code",
      "metadata": {
        "id": "sqw-cl9SErE8"
      },
      "source": [
        "## DECLARACION Y COMPILACION DEL MODELO\n",
        "model = tf.keras.Sequential([\n",
        "    tf.keras.layers.Embedding(input_dim=4000, output_dim=128),\n",
        "    tf.keras.layers.LSTM(128),\n",
        "    tf.keras.layers.Dense(128, activation='relu'),\n",
        "    tf.keras.layers.Dropout(0.5),\n",
        "    tf.keras.layers.Dense(64, activation='relu'),\n",
        "    tf.keras.layers.Dense(2, activation='softmax')\n",
        "])"
      ],
      "execution_count": null,
      "outputs": []
    },
    {
      "cell_type": "code",
      "metadata": {
        "id": "exbAdsCwFo5W"
      },
      "source": [
        "## ENTRENAMIENTO DEL MODELO\n",
        "model.compile(loss='categorical_crossentropy',\n",
        "              optimizer=tf.keras.optimizers.Adam(1e-4),\n",
        "              metrics=['accuracy'])"
      ],
      "execution_count": null,
      "outputs": []
    },
    {
      "cell_type": "code",
      "metadata": {
        "colab": {
          "base_uri": "https://localhost:8080/"
        },
        "id": "InKJd3dtzMVQ",
        "outputId": "f5894063-e956-4c1d-de0e-bb2adcba0e01"
      },
      "source": [
        "from keras.callbacks import ModelCheckpoint\n",
        "epochs=25\n",
        "callback = [tf.keras.callbacks.ModelCheckpoint(\"model.weights.best.hdf5\", monitor='accuracy', save_best_only=True, mode='max')]\n",
        "model.fit(X, Y, batch_size=32, epochs=epochs, callbacks=callback)"
      ],
      "execution_count": null,
      "outputs": [
        {
          "output_type": "stream",
          "text": [
            "Epoch 1/25\n",
            "125/125 [==============================] - 1s 9ms/step - loss: 0.0115 - accuracy: 0.9975\n",
            "Epoch 2/25\n",
            "125/125 [==============================] - 1s 9ms/step - loss: 0.0113 - accuracy: 0.9973\n",
            "Epoch 3/25\n",
            "125/125 [==============================] - 1s 9ms/step - loss: 0.0319 - accuracy: 0.9887\n",
            "Epoch 4/25\n",
            "125/125 [==============================] - 1s 10ms/step - loss: 0.0299 - accuracy: 0.9910\n",
            "Epoch 5/25\n",
            "125/125 [==============================] - 1s 10ms/step - loss: 0.0221 - accuracy: 0.9933\n",
            "Epoch 6/25\n",
            "125/125 [==============================] - 1s 9ms/step - loss: 0.0134 - accuracy: 0.9960\n",
            "Epoch 7/25\n",
            "125/125 [==============================] - 1s 10ms/step - loss: 0.0116 - accuracy: 0.9973\n",
            "Epoch 8/25\n",
            "125/125 [==============================] - 1s 9ms/step - loss: 0.0215 - accuracy: 0.9930\n",
            "Epoch 9/25\n",
            "125/125 [==============================] - 1s 10ms/step - loss: 0.0138 - accuracy: 0.9967\n",
            "Epoch 10/25\n",
            "125/125 [==============================] - 1s 10ms/step - loss: 0.0095 - accuracy: 0.9977\n",
            "Epoch 11/25\n",
            "125/125 [==============================] - 1s 9ms/step - loss: 0.0078 - accuracy: 0.9983\n",
            "Epoch 12/25\n",
            "125/125 [==============================] - 1s 10ms/step - loss: 0.0077 - accuracy: 0.9983\n",
            "Epoch 13/25\n",
            "125/125 [==============================] - 1s 9ms/step - loss: 0.0092 - accuracy: 0.9980\n",
            "Epoch 14/25\n",
            "125/125 [==============================] - 1s 9ms/step - loss: 0.0082 - accuracy: 0.9980\n",
            "Epoch 15/25\n",
            "125/125 [==============================] - 1s 10ms/step - loss: 0.0089 - accuracy: 0.9973\n",
            "Epoch 16/25\n",
            "125/125 [==============================] - 1s 9ms/step - loss: 0.0085 - accuracy: 0.9975\n",
            "Epoch 17/25\n",
            "125/125 [==============================] - 1s 9ms/step - loss: 0.0070 - accuracy: 0.9983\n",
            "Epoch 18/25\n",
            "125/125 [==============================] - 1s 10ms/step - loss: 0.0134 - accuracy: 0.9948\n",
            "Epoch 19/25\n",
            "125/125 [==============================] - 1s 9ms/step - loss: 0.0093 - accuracy: 0.9967\n",
            "Epoch 20/25\n",
            "125/125 [==============================] - 1s 9ms/step - loss: 0.0065 - accuracy: 0.9977\n",
            "Epoch 21/25\n",
            "125/125 [==============================] - 1s 9ms/step - loss: 0.0148 - accuracy: 0.9960\n",
            "Epoch 22/25\n",
            "125/125 [==============================] - 1s 9ms/step - loss: 0.0065 - accuracy: 0.9983\n",
            "Epoch 23/25\n",
            "125/125 [==============================] - 1s 9ms/step - loss: 0.0077 - accuracy: 0.9980\n",
            "Epoch 24/25\n",
            "125/125 [==============================] - 1s 9ms/step - loss: 0.0031 - accuracy: 0.9992\n",
            "Epoch 25/25\n",
            "125/125 [==============================] - 1s 9ms/step - loss: 0.0026 - accuracy: 0.9990\n"
          ],
          "name": "stdout"
        },
        {
          "output_type": "execute_result",
          "data": {
            "text/plain": [
              "<tensorflow.python.keras.callbacks.History at 0x7f911815cf90>"
            ]
          },
          "metadata": {
            "tags": []
          },
          "execution_count": 59
        }
      ]
    },
    {
      "cell_type": "code",
      "metadata": {
        "id": "lbekPMgTIQe6"
      },
      "source": [
        "## CORRER ESTA PARTE UNA VEZ QUE EL MODELO \"model\" ESTE ENTRENADO\n",
        "dataVal = pd.read_csv(\"DatosNoEtiquetados.csv\") # Lectura datos no etiquetados\n",
        "X_val = tokenizer.texts_to_sequences(dataVal['Text']) # Tokenizar\n",
        "X_val = pad_sequences(X_val,maxlen=30,padding='post') # Padding 30 elementos\n",
        "Y_val = model.predict(X_val) # model es el modelo que creaste y entrenaste\n",
        "# Obtener las labels\n",
        "map_num2lab = {0:'negative',1:'positive'}\n",
        "Y_val_lab = [map_num2lab[np.argmax(x)] for x in Y_val]\n",
        "# Guardar el archivo\n",
        "dataVal['Sentiment'] = Y_val_lab\n",
        "dataVal.to_csv(\"BernalP3.csv\")"
      ],
      "execution_count": null,
      "outputs": []
    },
    {
      "cell_type": "code",
      "metadata": {
        "id": "_NXF8C_BIhiO"
      },
      "source": [
        "# x in Y_val es cada [p_0 , p_1]\n",
        "# x = [9.9999797e-01, 2.0141069e-06]\n",
        "# x = [4.8973561e-05, 9.9995100e-01]\n",
        "# ...\n",
        "# x = [4.8973561e-05, 9.9995100e-01]\n",
        "# x = [9.9999797e-01, 2.0610623e-06]\n",
        "\n",
        "# np.argmax(x) es el indice con el elemento mayor\n",
        "\n",
        "# np.argmax(x) = np.argmax([9.9999797e-01, 2.0141069e-06]) = 0 \n",
        "\n",
        "# map_num2lab[np.argmax(x)] = map_num2lab[np.argmax([9.9999797e-01, 2.0141069e-06])]\n",
        "#                           = map_num2lab[0] = 'negative'\n"
      ],
      "execution_count": null,
      "outputs": []
    },
    {
      "cell_type": "markdown",
      "metadata": {
        "id": "4La93bVmNkPS"
      },
      "source": [
        "Las siguientes lineas de codigo se usaran para revisar el rendimiento del etiquetado presentado."
      ]
    },
    {
      "cell_type": "code",
      "metadata": {
        "id": "_DLpax3zJjXV"
      },
      "source": [
        "dataAns = pd.read_csv(\"BernalP2.csv\")"
      ],
      "execution_count": null,
      "outputs": []
    },
    {
      "cell_type": "code",
      "metadata": {
        "id": "pIfYsUSEJ1Ar"
      },
      "source": [
        "dataAns['Student'] = dataVal['Sentiment']"
      ],
      "execution_count": null,
      "outputs": []
    },
    {
      "cell_type": "code",
      "metadata": {
        "id": "8ERVdvnAJ8Bf"
      },
      "source": [
        "from sklearn.metrics import confusion_matrix\n",
        "import seaborn as sns\n",
        "cf_matrix = confusion_matrix(dataAns['Sentiment'],dataAns['Student'])"
      ],
      "execution_count": null,
      "outputs": []
    },
    {
      "cell_type": "code",
      "metadata": {
        "colab": {
          "base_uri": "https://localhost:8080/",
          "height": 282
        },
        "id": "bXM5P3VIKg1a",
        "outputId": "059aa77a-5126-4d1f-f15e-f50be6da3ed8"
      },
      "source": [
        "group_names = ['True Neg','False Pos','False Neg','True Pos']\n",
        "group_counts = [\"{0:0.0f}\".format(value) for value in\n",
        "                cf_matrix.flatten()]\n",
        "group_percentages = [\"{0:.2%}\".format(value) for value in\n",
        "                     cf_matrix.flatten()/np.sum(cf_matrix)]\n",
        "labels = [f\"{v1}\\n{v2}\\n{v3}\" for v1, v2, v3 in\n",
        "          zip(group_names,group_counts,group_percentages)]\n",
        "labels = np.asarray(labels).reshape(2,2)\n",
        "sns.heatmap(cf_matrix, annot=labels, fmt='', cmap='Blues')"
      ],
      "execution_count": null,
      "outputs": [
        {
          "output_type": "execute_result",
          "data": {
            "text/plain": [
              "<matplotlib.axes._subplots.AxesSubplot at 0x7f9118051150>"
            ]
          },
          "metadata": {
            "tags": []
          },
          "execution_count": 64
        },
        {
          "output_type": "display_data",
          "data": {
            "image/png": "[encoded data removed]",
            "text/plain": [
              "<Figure size 432x288 with 2 Axes>"
            ]
          },
          "metadata": {
            "tags": [],
            "needs_background": "light"
          }
        }
      ]
    },
    {
      "cell_type": "code",
      "metadata": {
        "colab": {
          "base_uri": "https://localhost:8080/"
        },
        "id": "fbHD_LMrL6k3",
        "outputId": "83b90059-936d-41f1-c44d-6d72e9b834a4"
      },
      "source": [
        "sum(sum(cf_matrix))"
      ],
      "execution_count": null,
      "outputs": [
        {
          "output_type": "execute_result",
          "data": {
            "text/plain": [
              "584"
            ]
          },
          "metadata": {
            "tags": []
          },
          "execution_count": 65
        }
      ]
    },
    {
      "cell_type": "code",
      "metadata": {
        "colab": {
          "base_uri": "https://localhost:8080/"
        },
        "id": "h925HJMnLnHT",
        "outputId": "23a7cbc3-249c-471d-cc13-2379a0502610"
      },
      "source": [
        "100* (cf_matrix[0,0] + cf_matrix[1,1] ) / sum(sum(cf_matrix))"
      ],
      "execution_count": null,
      "outputs": [
        {
          "output_type": "execute_result",
          "data": {
            "text/plain": [
              "75.51369863013699"
            ]
          },
          "metadata": {
            "tags": []
          },
          "execution_count": 66
        }
      ]
    }
  ]
}