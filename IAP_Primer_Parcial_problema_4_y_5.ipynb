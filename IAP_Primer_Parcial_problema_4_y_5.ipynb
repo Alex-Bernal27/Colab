{
  "nbformat": 4,
  "nbformat_minor": 0,
  "metadata": {
    "colab": {
      "name": "IAP Primer Parcial problema 4 y 5.ipynb",
      "provenance": [],
      "collapsed_sections": [
        "2mYGyeuwC4Ru"
      ],
      "toc_visible": true,
      "include_colab_link": true
    },
    "kernelspec": {
      "name": "python3",
      "display_name": "Python 3"
    },
    "accelerator": "GPU"
  },
  "cells": [
    {
      "cell_type": "markdown",
      "metadata": {
        "id": "view-in-github",
        "colab_type": "text"
      },
      "source": [
        "<a href=\"https://colab.research.google.com/github/Alex-Bernal27/Colab/blob/main/IAP_Primer_Parcial_problema_4_y_5.ipynb\" target=\"_parent\"><img src=\"https://colab.research.google.com/assets/colab-badge.svg\" alt=\"Open In Colab\"/></a>"
      ]
    },
    {
      "cell_type": "markdown",
      "metadata": {
        "id": "YZA6ei8lAfJh"
      },
      "source": [
        "UANL  - FCFM\n",
        "\n",
        "Primer parcial Introducción al aprendizaje profundo\n",
        "\n",
        "6 de marzo de 2021\n",
        "\n",
        "Profesor: MCE. Angel Adrián Domínguez Lozano\n",
        "\n",
        "Alumno: Alejandro Bernal Najera"
      ]
    },
    {
      "cell_type": "markdown",
      "metadata": {
        "id": "2mYGyeuwC4Ru"
      },
      "source": [
        "# Preambulo problemas 4 y 5"
      ]
    },
    {
      "cell_type": "markdown",
      "metadata": {
        "id": "LOScsnsmvEjP"
      },
      "source": [
        "**Recordatorio: Usar GPU para entrenar redes neuronales reduce el tiempo de ejecucion considerablemente**\n"
      ]
    },
    {
      "cell_type": "code",
      "metadata": {
        "id": "RCMM2Y1hV1u8"
      },
      "source": [
        "%tensorflow_version 2.x\n",
        "import tensorflow as tf\n",
        "import matplotlib.pyplot as plt\n",
        "import tensorflow_datasets\n",
        "import numpy as np"
      ],
      "execution_count": null,
      "outputs": []
    },
    {
      "cell_type": "code",
      "metadata": {
        "id": "yQx7ko2vvAgD"
      },
      "source": [
        "# El conjunto de datos\n",
        "(x_train, y_train), (x_test, y_test) = tf.keras.datasets.mnist.load_data()"
      ],
      "execution_count": null,
      "outputs": []
    },
    {
      "cell_type": "code",
      "metadata": {
        "id": "tbqrYcFEzLQ7",
        "colab": {
          "base_uri": "https://localhost:8080/"
        },
        "outputId": "31305b98-4ea7-4dbb-c94a-9412ce40cdcf"
      },
      "source": [
        "print(\"x_train dimensions : \",x_train.shape)\n",
        "print(\"x_test dimensions : \",x_test.shape)\n",
        "print(\"y_train dimensions : \",y_train.shape)\n",
        "print(\"y_test dimensions : \",y_test.shape)"
      ],
      "execution_count": null,
      "outputs": [
        {
          "output_type": "stream",
          "text": [
            "x_train dimensions :  (60000, 28, 28)\n",
            "x_test dimensions :  (10000, 28, 28)\n",
            "y_train dimensions :  (60000,)\n",
            "y_test dimensions :  (10000,)\n"
          ],
          "name": "stdout"
        }
      ]
    },
    {
      "cell_type": "code",
      "metadata": {
        "id": "0sUJLR5B2R1_"
      },
      "source": [
        "# Modificacion para que las imagenes tengan la estructura correcta\n",
        "x_train = x_train.reshape((60000,28,28,1))\n",
        "x_test = x_test.reshape((10000,28,28,1))"
      ],
      "execution_count": null,
      "outputs": []
    },
    {
      "cell_type": "code",
      "metadata": {
        "id": "KCmQaXZv2m6l",
        "colab": {
          "base_uri": "https://localhost:8080/"
        },
        "outputId": "9c4d949b-3ba3-45b6-b053-15e998f2d3de"
      },
      "source": [
        "print(\"x_train dimensions : \",x_train.shape)\n",
        "print(\"x_test dimensions : \",x_test.shape)\n",
        "print(\"y_train dimensions : \",y_train.shape)\n",
        "print(\"y_test dimensions : \",y_test.shape)"
      ],
      "execution_count": null,
      "outputs": [
        {
          "output_type": "stream",
          "text": [
            "x_train dimensions :  (60000, 28, 28, 1)\n",
            "x_test dimensions :  (10000, 28, 28, 1)\n",
            "y_train dimensions :  (60000,)\n",
            "y_test dimensions :  (10000,)\n"
          ],
          "name": "stdout"
        }
      ]
    },
    {
      "cell_type": "code",
      "metadata": {
        "id": "o_C3GMd8yw9S",
        "colab": {
          "base_uri": "https://localhost:8080/",
          "height": 282
        },
        "outputId": "23a11ead-5f5e-453b-9af9-572062c11118"
      },
      "source": [
        "# imshow muestra matrices 2D o tensor 3D con la tercera dimension con 3 entradas\n",
        "# en forma de imagen\n",
        "plt.imshow(x_train[40].reshape((28,28)),cmap='Greys')\n",
        "print(y_train[40])"
      ],
      "execution_count": null,
      "outputs": [
        {
          "output_type": "stream",
          "text": [
            "1\n"
          ],
          "name": "stdout"
        },
        {
          "output_type": "display_data",
          "data": {
            "image/png": "[encoded data removed]",
            "text/plain": [
              "<Figure size 432x288 with 1 Axes>"
            ]
          },
          "metadata": {
            "tags": [],
            "needs_background": "light"
          }
        }
      ]
    },
    {
      "cell_type": "code",
      "metadata": {
        "id": "qWG2I1jszxOB"
      },
      "source": [
        "from sklearn.model_selection import train_test_split\n",
        "x_train, x_val, y_train, y_val = train_test_split(x_train,\n",
        " y_train, test_size = 0.05,\n",
        "random_state = 0)"
      ],
      "execution_count": null,
      "outputs": []
    },
    {
      "cell_type": "code",
      "metadata": {
        "id": "eQgBfwQrz5cA"
      },
      "source": [
        "def normalize(data):\n",
        " data = data.astype(\"float32\")\n",
        " data = data/255.0\n",
        " return data"
      ],
      "execution_count": null,
      "outputs": []
    },
    {
      "cell_type": "code",
      "metadata": {
        "id": "eAzdy43V0NQD"
      },
      "source": [
        "x_train = normalize(x_train)\n",
        "x_val = normalize(x_val)\n",
        "x_test = normalize(x_test)"
      ],
      "execution_count": null,
      "outputs": []
    },
    {
      "cell_type": "code",
      "metadata": {
        "id": "Yr0qGzgX0Uz5"
      },
      "source": [
        "y_train = tf.keras.utils.to_categorical(y_train, 10)\n",
        "y_test = tf.keras.utils.to_categorical(y_test, 10)\n",
        "y_val = tf.keras.utils.to_categorical(y_val, 10)"
      ],
      "execution_count": null,
      "outputs": []
    },
    {
      "cell_type": "code",
      "metadata": {
        "id": "qwT7bcKt0Y1m"
      },
      "source": [
        "from tensorflow.keras.preprocessing.image import load_img, img_to_array\n",
        "classes = range(10)\n",
        "def results(model,epoch=20):\n",
        "  r = model.fit(x_train, y_train, batch_size = 32,\n",
        "                epochs = epoch, \n",
        "                validation_data = (x_val, y_val), \n",
        "                verbose = 1)\n",
        "  acc = model.evaluate(x_test, y_test)\n",
        "  print(\"test set loss : \", acc[0])\n",
        "  print(\"test set accuracy :\", acc[1]*100)\n",
        "  epoch_range = range(1, epoch+1)\n",
        "  plt.plot(epoch_range, r.history['accuracy'])\n",
        "  plt.plot(epoch_range, r.history['val_accuracy'])\n",
        "  plt.title('Classification Accuracy')\n",
        "  plt.ylabel('Accuracy')\n",
        "  plt.xlabel('Epoch')\n",
        "  plt.legend(['Train', 'Val'], loc='lower right')\n",
        "  plt.show()\n",
        "  # Plot training & validation loss values\n",
        "  plt.plot(epoch_range,r.history['loss'])\n",
        "  plt.plot(epoch_range, r.history['val_loss'])\n",
        "  plt.title('Model loss')\n",
        "  plt.ylabel('Loss')\n",
        "  plt.xlabel('Epoch')\n",
        "  plt.legend(['Train', 'Val'], loc='lower right')\n",
        "  plt.show()\n",
        "\n",
        "def predict_class(filename, model):\n",
        "  img = load_img(filename,target_size=( 28 , 28, 3)) # Lectura como imagen a color\n",
        "  plt.imshow(img,cmap='Greys')\n",
        "  img = img_to_array(img) \n",
        "  img = np.mean(img, axis=2)  # Promedio de los 3 canales en un solo canal\n",
        "  img = img.reshape(1,28,28,1)\n",
        "  img = img.astype('float32')\n",
        "  img = img/255.0\n",
        "  result = model.predict(img)\n",
        "  dict2 = {}\n",
        "  for i in range(10):\n",
        "    dict2[result[0][i]] = classes[i]\n",
        "  res = result[0]\n",
        "  res.sort()\n",
        "  res = res[::-1]\n",
        "  results = res[:3]\n",
        "  print(\"Top predictions of these images are\")\n",
        "  for i in range(3):\n",
        "    print(\"{} : {}\".format(dict2[results[i]],\n",
        "                           (results[i]*100).round(2)))\n",
        "  print('The image given as input is')"
      ],
      "execution_count": null,
      "outputs": []
    },
    {
      "cell_type": "markdown",
      "metadata": {
        "id": "F3jhVk4GD0N4"
      },
      "source": [
        "# 4. (30 puntos) Ajusta una red neuronal profunda con capas densas (sin capas de convolucion) para predicción.\n",
        "\n"
      ]
    },
    {
      "cell_type": "markdown",
      "metadata": {
        "id": "NDzvgClpEmUm"
      },
      "source": [
        "Nota 1: Debes especificar la estructura de la red que estas usando, su cantidad de parametros y comentar sobre en que epoca se comienza a notar un sobreajuste.\n",
        "\n",
        "Nota 2: Debes verificar el rendimiento de tu modelo sobre al menos una imagen creada por ti.\n",
        "\n",
        "Nota 3: Puedes entregar más de un modelo.\n",
        "\n",
        "Nota 4: Quien tenga el mayor accuracy recibirá 20 puntos extras."
      ]
    },
    {
      "cell_type": "markdown",
      "metadata": {
        "id": "2ziNrDD4zLuX"
      },
      "source": [
        "### - Estructura de la red: \n",
        "Para iniciar el modelo hay un flatten para que las matrices que vienen convertirlos en un vector de una dimension, despues estan 4 capas densas, 3 ocultas y la de salida y tambien las tres del dropout. \n",
        "Utiliza la funcion de activacion relu en las tres capas ocultas ya que la relu anula los datos negativos para dejar los positivos algo que creo con imagenes se utiliza.\n",
        "Utilizo un dropout de 0.3 pra quitarle mas o menos a cada una de las capas porque vi un sobre ajuste si no lo usaba.\n",
        "Y al final utilizo la funcion de activacion softmax porque es la mejor para manejar las probabilidades ya que da valores de 0,1.\n",
        "Cambie el el optimizador a \"adam\" porque lei que es mejor porque utiliza menor memoria y es mas rapido. Por ultimo mi funcion de perdida es categorical_crossentropy por que esta se usa cuando hay dos o más clases de etiquetas que en este caso serian 10 que son los numeros. Y cambie el numero de epocas para poder visualizar bien si si habia sobreajuste porque con 20 se malinterpretaba.\n",
        "\n",
        "### - Cantidad de parametros: 240,936\n",
        "\n",
        "((784+1) * 254) + ((254+1) * 128) + ((128+1) * 64) + ((64+1) * 10) = 240,936\n",
        "\n",
        "### - Epoca que se nota el sobreajuste: \n",
        "Por la grafica de classification accuracy muestra que alrededor de la **epoca 16** hay un sobre ajuste en este modelo."
      ]
    },
    {
      "cell_type": "code",
      "metadata": {
        "id": "FAllSZCQEdMu",
        "colab": {
          "base_uri": "https://localhost:8080/",
          "height": 1000
        },
        "outputId": "37e26a23-68c8-4324-dba0-61b5dd2ba5b1"
      },
      "source": [
        "from tensorflow.keras.models import Sequential\n",
        "from tensorflow.keras.layers import Dense, Dropout, Conv2D, MaxPooling2D,Flatten, BatchNormalization\n",
        "model_1 = Sequential([\n",
        " Flatten(), # Esto colapsa las imagenes en un vector de una dimension\n",
        "  ## TU ARQUITECTURA\n",
        "    Dense(254, activation='relu'),\n",
        "    Dropout(0.3),\n",
        "    Dense(128, activation='relu'),\n",
        "    Dropout(0.3),\n",
        "    Dense(64, activation='relu'),\n",
        "    Dropout(0.3),\n",
        "    Dense(10, activation='softmax'),\n",
        "])\n",
        "opt = tf.keras.optimizers.SGD(lr=0.001, momentum=0.9) ## PUEDES MODIFICAR EL OPTIMIZADOR\n",
        "model_1.compile(optimizer=\"adam\", loss = \"categorical_crossentropy\" ,##### Coloca la funcion de perdida adecuada\n",
        " metrics = ['accuracy'])\n",
        "results(model_1,epoch=30)"
      ],
      "execution_count": null,
      "outputs": [
        {
          "output_type": "stream",
          "text": [
            "Epoch 1/30\n",
            "1782/1782 [==============================] - 5s 3ms/step - loss: 0.6635 - accuracy: 0.7900 - val_loss: 0.1405 - val_accuracy: 0.9570\n",
            "Epoch 2/30\n",
            "1782/1782 [==============================] - 5s 3ms/step - loss: 0.1900 - accuracy: 0.9462 - val_loss: 0.1193 - val_accuracy: 0.9643\n",
            "Epoch 3/30\n",
            "1782/1782 [==============================] - 5s 3ms/step - loss: 0.1447 - accuracy: 0.9585 - val_loss: 0.0818 - val_accuracy: 0.9770\n",
            "Epoch 4/30\n",
            "1782/1782 [==============================] - 5s 3ms/step - loss: 0.1222 - accuracy: 0.9641 - val_loss: 0.0982 - val_accuracy: 0.9737\n",
            "Epoch 5/30\n",
            "1782/1782 [==============================] - 5s 3ms/step - loss: 0.1089 - accuracy: 0.9685 - val_loss: 0.0770 - val_accuracy: 0.9760\n",
            "Epoch 6/30\n",
            "1782/1782 [==============================] - 5s 3ms/step - loss: 0.0966 - accuracy: 0.9722 - val_loss: 0.0724 - val_accuracy: 0.9777\n",
            "Epoch 7/30\n",
            "1782/1782 [==============================] - 5s 3ms/step - loss: 0.0898 - accuracy: 0.9739 - val_loss: 0.0772 - val_accuracy: 0.9757\n",
            "Epoch 8/30\n",
            "1782/1782 [==============================] - 5s 3ms/step - loss: 0.0816 - accuracy: 0.9762 - val_loss: 0.0748 - val_accuracy: 0.9793\n",
            "Epoch 9/30\n",
            "1782/1782 [==============================] - 5s 3ms/step - loss: 0.0757 - accuracy: 0.9777 - val_loss: 0.0744 - val_accuracy: 0.9773\n",
            "Epoch 10/30\n",
            "1782/1782 [==============================] - 5s 3ms/step - loss: 0.0687 - accuracy: 0.9796 - val_loss: 0.0691 - val_accuracy: 0.9807\n",
            "Epoch 11/30\n",
            "1782/1782 [==============================] - 5s 3ms/step - loss: 0.0639 - accuracy: 0.9814 - val_loss: 0.0650 - val_accuracy: 0.9817\n",
            "Epoch 12/30\n",
            "1782/1782 [==============================] - 5s 3ms/step - loss: 0.0655 - accuracy: 0.9807 - val_loss: 0.0592 - val_accuracy: 0.9853\n",
            "Epoch 13/30\n",
            "1782/1782 [==============================] - 5s 3ms/step - loss: 0.0616 - accuracy: 0.9815 - val_loss: 0.0741 - val_accuracy: 0.9797\n",
            "Epoch 14/30\n",
            "1782/1782 [==============================] - 5s 3ms/step - loss: 0.0544 - accuracy: 0.9840 - val_loss: 0.0711 - val_accuracy: 0.9827\n",
            "Epoch 15/30\n",
            "1782/1782 [==============================] - 5s 3ms/step - loss: 0.0563 - accuracy: 0.9838 - val_loss: 0.0688 - val_accuracy: 0.9813\n",
            "Epoch 16/30\n",
            "1782/1782 [==============================] - 5s 3ms/step - loss: 0.0560 - accuracy: 0.9833 - val_loss: 0.0707 - val_accuracy: 0.9843\n",
            "Epoch 17/30\n",
            "1782/1782 [==============================] - 5s 3ms/step - loss: 0.0514 - accuracy: 0.9850 - val_loss: 0.0820 - val_accuracy: 0.9813\n",
            "Epoch 18/30\n",
            "1782/1782 [==============================] - 5s 3ms/step - loss: 0.0512 - accuracy: 0.9855 - val_loss: 0.0692 - val_accuracy: 0.9817\n",
            "Epoch 19/30\n",
            "1782/1782 [==============================] - 5s 3ms/step - loss: 0.0455 - accuracy: 0.9862 - val_loss: 0.0567 - val_accuracy: 0.9850\n",
            "Epoch 20/30\n",
            "1782/1782 [==============================] - 5s 3ms/step - loss: 0.0521 - accuracy: 0.9845 - val_loss: 0.0729 - val_accuracy: 0.9810\n",
            "Epoch 21/30\n",
            "1782/1782 [==============================] - 5s 3ms/step - loss: 0.0424 - accuracy: 0.9879 - val_loss: 0.0723 - val_accuracy: 0.9833\n",
            "Epoch 22/30\n",
            "1782/1782 [==============================] - 5s 3ms/step - loss: 0.0466 - accuracy: 0.9862 - val_loss: 0.0793 - val_accuracy: 0.9843\n",
            "Epoch 23/30\n",
            "1782/1782 [==============================] - 5s 3ms/step - loss: 0.0419 - accuracy: 0.9874 - val_loss: 0.0825 - val_accuracy: 0.9840\n",
            "Epoch 24/30\n",
            "1782/1782 [==============================] - 5s 3ms/step - loss: 0.0414 - accuracy: 0.9868 - val_loss: 0.0715 - val_accuracy: 0.9850\n",
            "Epoch 25/30\n",
            "1782/1782 [==============================] - 5s 3ms/step - loss: 0.0410 - accuracy: 0.9884 - val_loss: 0.0713 - val_accuracy: 0.9847\n",
            "Epoch 26/30\n",
            "1782/1782 [==============================] - 5s 3ms/step - loss: 0.0399 - accuracy: 0.9893 - val_loss: 0.0930 - val_accuracy: 0.9823\n",
            "Epoch 27/30\n",
            "1782/1782 [==============================] - 5s 3ms/step - loss: 0.0399 - accuracy: 0.9881 - val_loss: 0.0757 - val_accuracy: 0.9840\n",
            "Epoch 28/30\n",
            "1782/1782 [==============================] - 5s 3ms/step - loss: 0.0364 - accuracy: 0.9901 - val_loss: 0.0778 - val_accuracy: 0.9840\n",
            "Epoch 29/30\n",
            "1782/1782 [==============================] - 5s 3ms/step - loss: 0.0350 - accuracy: 0.9898 - val_loss: 0.0723 - val_accuracy: 0.9820\n",
            "Epoch 30/30\n",
            "1782/1782 [==============================] - 5s 3ms/step - loss: 0.0391 - accuracy: 0.9885 - val_loss: 0.0666 - val_accuracy: 0.9847\n",
            "313/313 [==============================] - 1s 2ms/step - loss: 0.0912 - accuracy: 0.9829\n",
            "test set loss :  0.0911925807595253\n",
            "test set accuracy : 98.29000234603882\n"
          ],
          "name": "stdout"
        },
        {
          "output_type": "display_data",
          "data": {
            "image/png": "[encoded data removed]",
            "text/plain": [
              "<Figure size 432x288 with 1 Axes>"
            ]
          },
          "metadata": {
            "tags": [],
            "needs_background": "light"
          }
        },
        {
          "output_type": "display_data",
          "data": {
            "image/png": "[encoded data removed]",
            "text/plain": [
              "<Figure size 432x288 with 1 Axes>"
            ]
          },
          "metadata": {
            "tags": [],
            "needs_background": "light"
          }
        }
      ]
    },
    {
      "cell_type": "code",
      "metadata": {
        "id": "2e655bH6F1-G",
        "colab": {
          "base_uri": "https://localhost:8080/",
          "height": 350
        },
        "outputId": "021cb914-0d63-40f4-e79b-d0d6d995f019"
      },
      "source": [
        "predict_class(\"4.png\", model_1)"
      ],
      "execution_count": null,
      "outputs": [
        {
          "output_type": "stream",
          "text": [
            "Top predictions of these images are\n",
            "4 : 100.0\n",
            "9 : 0.0\n",
            "7 : 0.0\n",
            "The image given as input is\n"
          ],
          "name": "stdout"
        },
        {
          "output_type": "display_data",
          "data": {
            "image/png": "[encoded data removed]",
            "text/plain": [
              "<Figure size 432x288 with 1 Axes>"
            ]
          },
          "metadata": {
            "tags": [],
            "needs_background": "light"
          }
        }
      ]
    },
    {
      "cell_type": "markdown",
      "metadata": {
        "id": "LjdIrKnCF_t7"
      },
      "source": [
        "# 5. (30 puntos) Ajusta una red neuronal convolucional (con al menos una capa convolucional) para predicción.\n",
        "\n"
      ]
    },
    {
      "cell_type": "markdown",
      "metadata": {
        "id": "MfVlR9pSGPFu"
      },
      "source": [
        "Nota 1: Debes especificar la estructura de la red que estas usando, su cantidad de parametros y comentar sobre en que epoca se comienza a notar un sobreajuste.\n",
        "\n",
        "Nota 2: Debes verificar el rendimiento de tu modelo sobre al menos una imagen creada por ti.\n",
        "\n",
        "Nota 3: Puedes entregar más de un modelo.\n",
        "\n",
        "Nota 4: Quien tenga el mayor accuracy recibirá 20 puntos extras."
      ]
    },
    {
      "cell_type": "markdown",
      "metadata": {
        "id": "4TokJ_PLD3_U"
      },
      "source": [
        "### - Estructura de la red: \n",
        "En este modelo 4 capas aunque creo que algunos toman en cuenta el maxpooling como otra capa en ese caso serian 6. Pero tenemos dos capas ocultas convolucionales, una capa densa y la capa de salida.\n",
        "En las convolucionales  tenemos primero un 64 que es numero de filtros de esa capa y en la segunda tengo 32 filtros. Despues el tamaño del kernel es una matrix 3x3, con la funcion de activacion relu la cual ya mencione en el ejercicio anterior que la utilizo ya que la relu anula los datos negativos para dejar los positivos algo que creo que usa los modelos donde se trabaja con imagenes, despues con el parametro de kernel_regularizer panalizamos algunos parametros de la capa para obtener un mejor modelo.\n",
        "despues de cada capa utilizamos el batchnormalization para poder normalizar todos los datos de entrada en la capa, tiene el efecto de acelerar el proceso de entrenamiento y mejorar el rendimiento y ya sea capa densa o capa convolucional lei que es importante si piensas utilizarlo debes usarlo en todas las capas, tambien utilizamos el maxpooling que este solo agarra el maximo de una matriz de 2x2. Por ultimo un flatten para convertirlo en un vector y empezar con las capas densas de 128 y 10 neuronas, con la funcion relu igual que las anteriores y la capa final con la funcion softmax para las probalididades.\n",
        "Para finalizar el optimizador lo deje igual porque me daba una grafica mejor para leerla a comparacion con el adam y con la misma funcion de perdida que es por las categorias de numeros que tiene este proyecto.\n",
        "\n",
        "### - Cantidad de parametros: 123,434\n",
        "\n",
        "\n",
        "### - Epoca que se nota el sobreajuste: \n",
        "Aproximadamente tomando en cuenta la grafica de classification accuracy por la **epoca 3** se nota el sobreajuste.\n"
      ]
    },
    {
      "cell_type": "code",
      "metadata": {
        "id": "Kxb2AJeyGUei",
        "colab": {
          "base_uri": "https://localhost:8080/",
          "height": 1000
        },
        "outputId": "b309e94f-0e4e-4720-eda6-2311ab8c61a9"
      },
      "source": [
        "from tensorflow.keras.models import Sequential\n",
        "from tensorflow.keras.layers import Dense, Dropout, Conv2D, MaxPooling2D,Flatten, BatchNormalization\n",
        "weight_decay = 1e-4\n",
        "model_2 = Sequential([\n",
        "        Conv2D(64, kernel_size=(3, 3), activation=\"relu\",\n",
        "        kernel_regularizer = tf.keras.regularizers.l2(weight_decay)),\n",
        "        BatchNormalization(),\n",
        "        MaxPooling2D(pool_size=(2, 2)),\n",
        "        Conv2D(32, kernel_size=(3, 3), activation=\"relu\",\n",
        "        kernel_regularizer = tf.keras.regularizers.l2(weight_decay)),\n",
        "        BatchNormalization(),\n",
        "        MaxPooling2D(pool_size=(2, 2)),\n",
        "        Flatten(),\n",
        "        Dense(128, activation = 'relu'),\n",
        "        BatchNormalization(),\n",
        "        Dense(10, activation = 'softmax')\n",
        "])\n",
        "opt = tf.keras.optimizers.SGD(lr=0.001, momentum=0.9) ## PUEDES MODIFICAR EL OPTIMIZADOR\n",
        "model_2.compile(optimizer=opt, loss = \"categorical_crossentropy\" ,##### Coloca la funcion de perdida adecuada,\n",
        " metrics = ['accuracy'])\n",
        "results(model_2)"
      ],
      "execution_count": null,
      "outputs": [
        {
          "output_type": "stream",
          "text": [
            "Epoch 1/20\n",
            "1782/1782 [==============================] - 8s 4ms/step - loss: 0.3832 - accuracy: 0.8915 - val_loss: 0.0744 - val_accuracy: 0.9810\n",
            "Epoch 2/20\n",
            "1782/1782 [==============================] - 7s 4ms/step - loss: 0.0784 - accuracy: 0.9799 - val_loss: 0.0569 - val_accuracy: 0.9847\n",
            "Epoch 3/20\n",
            "1782/1782 [==============================] - 7s 4ms/step - loss: 0.0601 - accuracy: 0.9847 - val_loss: 0.0518 - val_accuracy: 0.9857\n",
            "Epoch 4/20\n",
            "1782/1782 [==============================] - 7s 4ms/step - loss: 0.0516 - accuracy: 0.9868 - val_loss: 0.0429 - val_accuracy: 0.9863\n",
            "Epoch 5/20\n",
            "1782/1782 [==============================] - 7s 4ms/step - loss: 0.0408 - accuracy: 0.9903 - val_loss: 0.0471 - val_accuracy: 0.9867\n",
            "Epoch 6/20\n",
            "1782/1782 [==============================] - 7s 4ms/step - loss: 0.0354 - accuracy: 0.9915 - val_loss: 0.0388 - val_accuracy: 0.9877\n",
            "Epoch 7/20\n",
            "1782/1782 [==============================] - 7s 4ms/step - loss: 0.0322 - accuracy: 0.9923 - val_loss: 0.0376 - val_accuracy: 0.9897\n",
            "Epoch 8/20\n",
            "1782/1782 [==============================] - 7s 4ms/step - loss: 0.0290 - accuracy: 0.9940 - val_loss: 0.0332 - val_accuracy: 0.9897\n",
            "Epoch 9/20\n",
            "1782/1782 [==============================] - 7s 4ms/step - loss: 0.0254 - accuracy: 0.9953 - val_loss: 0.0318 - val_accuracy: 0.9903\n",
            "Epoch 10/20\n",
            "1782/1782 [==============================] - 7s 4ms/step - loss: 0.0245 - accuracy: 0.9949 - val_loss: 0.0319 - val_accuracy: 0.9913\n",
            "Epoch 11/20\n",
            "1782/1782 [==============================] - 7s 4ms/step - loss: 0.0228 - accuracy: 0.9951 - val_loss: 0.0316 - val_accuracy: 0.9910\n",
            "Epoch 12/20\n",
            "1782/1782 [==============================] - 7s 4ms/step - loss: 0.0205 - accuracy: 0.9956 - val_loss: 0.0331 - val_accuracy: 0.9893\n",
            "Epoch 13/20\n",
            "1782/1782 [==============================] - 7s 4ms/step - loss: 0.0190 - accuracy: 0.9966 - val_loss: 0.0304 - val_accuracy: 0.9897\n",
            "Epoch 14/20\n",
            "1782/1782 [==============================] - 7s 4ms/step - loss: 0.0179 - accuracy: 0.9965 - val_loss: 0.0280 - val_accuracy: 0.9927\n",
            "Epoch 15/20\n",
            "1782/1782 [==============================] - 7s 4ms/step - loss: 0.0181 - accuracy: 0.9967 - val_loss: 0.0337 - val_accuracy: 0.9890\n",
            "Epoch 16/20\n",
            "1782/1782 [==============================] - 7s 4ms/step - loss: 0.0159 - accuracy: 0.9973 - val_loss: 0.0269 - val_accuracy: 0.9913\n",
            "Epoch 17/20\n",
            "1782/1782 [==============================] - 7s 4ms/step - loss: 0.0149 - accuracy: 0.9979 - val_loss: 0.0283 - val_accuracy: 0.9917\n",
            "Epoch 18/20\n",
            "1782/1782 [==============================] - 7s 4ms/step - loss: 0.0157 - accuracy: 0.9973 - val_loss: 0.0338 - val_accuracy: 0.9887\n",
            "Epoch 19/20\n",
            "1782/1782 [==============================] - 7s 4ms/step - loss: 0.0143 - accuracy: 0.9979 - val_loss: 0.0263 - val_accuracy: 0.9920\n",
            "Epoch 20/20\n",
            "1782/1782 [==============================] - 7s 4ms/step - loss: 0.0135 - accuracy: 0.9980 - val_loss: 0.0302 - val_accuracy: 0.9910\n",
            "313/313 [==============================] - 1s 2ms/step - loss: 0.0343 - accuracy: 0.9900\n",
            "test set loss :  0.03432979807257652\n",
            "test set accuracy : 99.00000095367432\n"
          ],
          "name": "stdout"
        },
        {
          "output_type": "display_data",
          "data": {
            "image/png": "[encoded data removed]",
            "text/plain": [
              "<Figure size 432x288 with 1 Axes>"
            ]
          },
          "metadata": {
            "tags": [],
            "needs_background": "light"
          }
        },
        {
          "output_type": "display_data",
          "data": {
            "image/png": "[encoded data removed]",
            "text/plain": [
              "<Figure size 432x288 with 1 Axes>"
            ]
          },
          "metadata": {
            "tags": [],
            "needs_background": "light"
          }
        }
      ]
    },
    {
      "cell_type": "code",
      "metadata": {
        "id": "y-a07B5HQAOX",
        "colab": {
          "base_uri": "https://localhost:8080/",
          "height": 350
        },
        "outputId": "40c2ce08-364f-4537-fd5f-ed375a1ecdbd"
      },
      "source": [
        "predict_class(\"4.png\", model_2)"
      ],
      "execution_count": null,
      "outputs": [
        {
          "output_type": "stream",
          "text": [
            "Top predictions of these images are\n",
            "4 : 63.08\n",
            "1 : 34.36\n",
            "7 : 2.16\n",
            "The image given as input is\n"
          ],
          "name": "stdout"
        },
        {
          "output_type": "display_data",
          "data": {
            "image/png": "[encoded data removed]",
            "text/plain": [
              "<Figure size 432x288 with 1 Axes>"
            ]
          },
          "metadata": {
            "tags": [],
            "needs_background": "light"
          }
        }
      ]
    }
  ]
}