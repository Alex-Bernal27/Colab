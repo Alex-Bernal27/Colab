{
  "nbformat": 4,
  "nbformat_minor": 0,
  "metadata": {
    "colab": {
      "name": "T-sne.ipynb",
      "provenance": [],
      "collapsed_sections": [],
      "authorship_tag": "ABX9TyNV6WdmGi4bG2kgXtriqA3I",
      "include_colab_link": true
    },
    "kernelspec": {
      "name": "python3",
      "display_name": "Python 3"
    },
    "language_info": {
      "name": "python"
    },
    "accelerator": "GPU"
  },
  "cells": [
    {
      "cell_type": "markdown",
      "metadata": {
        "id": "view-in-github",
        "colab_type": "text"
      },
      "source": [
        "<a href=\"https://colab.research.google.com/github/Alex-Bernal27/Colab/blob/main/T_sne.ipynb\" target=\"_parent\"><img src=\"https://colab.research.google.com/assets/colab-badge.svg\" alt=\"Open In Colab\"/></a>"
      ]
    },
    {
      "cell_type": "code",
      "metadata": {
        "id": "OrvgszQeH2dv"
      },
      "source": [
        "import os\n",
        "import numpy as np\n",
        "import matplotlib.pyplot as plt\n",
        "import pandas as pd\n",
        "from os.path import join\n",
        "import cv2\n",
        "\n",
        "import tensorflow as tf\n",
        "from sklearn.manifold import TSNE"
      ],
      "execution_count": null,
      "outputs": []
    },
    {
      "cell_type": "code",
      "metadata": {
        "colab": {
          "base_uri": "https://localhost:8080/"
        },
        "id": "jQIaKV_njRW_",
        "outputId": "7e233204-8ab2-4e55-91e9-d377eb8b7acd"
      },
      "source": [
        "from google.colab import drive\n",
        "drive.mount('/content/drive')"
      ],
      "execution_count": null,
      "outputs": [
        {
          "output_type": "stream",
          "text": [
            "Mounted at /content/drive\n"
          ],
          "name": "stdout"
        }
      ]
    },
    {
      "cell_type": "code",
      "metadata": {
        "id": "f0sI0IPLjRVA"
      },
      "source": [
        "#Descargar los datos desde Google Drive\n",
        "data = pd.read_csv('/content/drive/MyDrive/Colab Notebooks/fruit_data.csv')"
      ],
      "execution_count": null,
      "outputs": []
    },
    {
      "cell_type": "code",
      "metadata": {
        "id": "ttO-jcx1jRSK"
      },
      "source": [
        "train_Un = np.array([data.loc[i] for i in data.index if data.loc[i, 'Kind'] == 'Unsupervised'])\n",
        "\n",
        "mypath='/content/drive/MyDrive/Colab Notebooks/Data Parcial 3'\n",
        "trainUn_images = np.empty(shape=(len(train_Un), 100, 100, 3),dtype=int)\n",
        "for n in range(0, len(train_Un)):\n",
        "  trainUn_images[n] = cv2.imread(join(mypath,train_Un[n][0]))\n",
        "\n",
        "trainUn_images = trainUn_images[:,:,:,0]\n",
        "x_train = trainUn_images.astype('float32') \n",
        "x_train = trainUn_images/255.0\n",
        "X_train = x_train.reshape(len(x_train),-1)"
      ],
      "execution_count": null,
      "outputs": []
    },
    {
      "cell_type": "code",
      "metadata": {
        "id": "VI-4dRXZI5aC",
        "colab": {
          "base_uri": "https://localhost:8080/"
        },
        "outputId": "3ada4a7a-2bbf-43ff-f8bd-33855d3b3560"
      },
      "source": [
        "digits_proj = TSNE(n_components=2, verbose=1, perplexity=40, n_iter=700).fit_transform(X_train)"
      ],
      "execution_count": null,
      "outputs": [
        {
          "output_type": "stream",
          "text": [
            "[t-SNE] Computing 121 nearest neighbors...\n",
            "[t-SNE] Indexed 766 samples in 0.433s...\n",
            "[t-SNE] Computed neighbors for 766 samples in 10.516s...\n",
            "[t-SNE] Computed conditional probabilities for sample 766 / 766\n",
            "[t-SNE] Mean sigma: 9.235830\n",
            "[t-SNE] KL divergence after 250 iterations with early exaggeration: 55.284012\n",
            "[t-SNE] KL divergence after 700 iterations: 0.275197\n"
          ],
          "name": "stdout"
        }
      ]
    },
    {
      "cell_type": "code",
      "metadata": {
        "id": "b6Ug0-0HJAC-"
      },
      "source": [
        "#función que se utiliza para mostrar el conjunto de datos transformado.\n",
        "def scatter(x):\n",
        "    f = plt.figure(figsize=(8, 8))\n",
        "    ax = plt.subplot(aspect='equal')\n",
        "    sc = ax.scatter(x[:,0], x[:,1], lw=0, s=40)\n",
        "    plt.xlim(-25, 25)\n",
        "    plt.ylim(-25, 25)\n",
        "    ax.axis('off')\n",
        "    ax.axis('tight')\n",
        "\n",
        "    return f, ax, sc"
      ],
      "execution_count": null,
      "outputs": []
    },
    {
      "cell_type": "code",
      "metadata": {
        "colab": {
          "base_uri": "https://localhost:8080/",
          "height": 517
        },
        "id": "dokUtrZeJB4L",
        "outputId": "7c810c70-546d-4002-da8c-ba7b695e5703"
      },
      "source": [
        "scatter(digits_proj)"
      ],
      "execution_count": null,
      "outputs": [
        {
          "output_type": "execute_result",
          "data": {
            "text/plain": [
              "(<Figure size 576x576 with 1 Axes>,\n",
              " <matplotlib.axes._subplots.AxesSubplot at 0x7ff82ac038d0>,\n",
              " <matplotlib.collections.PathCollection at 0x7ff82abe2e50>)"
            ]
          },
          "metadata": {
            "tags": []
          },
          "execution_count": 7
        },
        {
          "output_type": "display_data",
          "data": {
            "image/png": "[encoded data removed]",
            "text/plain": [
              "<Figure size 576x576 with 1 Axes>"
            ]
          },
          "metadata": {
            "tags": [],
            "needs_background": "light"
          }
        }
      ]
    }
  ]
}